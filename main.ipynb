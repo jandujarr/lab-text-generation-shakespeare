{
 "cells": [
  {
   "cell_type": "markdown",
   "metadata": {},
   "source": [
    "# Lab | Text Generation from Shakespeare's Sonnet\n",
    "\n",
    "This notebook explores the fascinating domain of text generation using a deep learning model trained on Shakespeare's sonnets. \n",
    "\n",
    "The objective is to create a neural network capable of generating text sequences that mimic the style and language of Shakespeare.\n",
    "\n",
    "By utilizing a Recurrent Neural Network (RNN) with Long Short-Term Memory (LSTM) layers, this project aims to demonstrate how a model can learn and replicate the complex patterns of early modern English. \n",
    "\n",
    "The dataset used consists of Shakespeare's sonnets, which are preprocessed and tokenized to serve as input for the model.\n",
    "\n",
    "Throughout this notebook, you will see the steps taken to prepare the data, build and train the model, and evaluate its performance in generating text. \n",
    "\n",
    "This lab provides a hands-on approach to understanding the intricacies of natural language processing (NLP) and the potential of machine learning in creative text generation."
   ]
  },
  {
   "cell_type": "markdown",
   "metadata": {},
   "source": [
    "Let's import necessary libraries"
   ]
  },
  {
   "cell_type": "code",
   "execution_count": null,
   "metadata": {},
   "outputs": [],
   "source": [
    "!pip install tensorflow"
   ]
  },
  {
   "cell_type": "code",
   "execution_count": null,
   "metadata": {},
   "outputs": [],
   "source": [
    "#conda install -c anaconda tensorflow"
   ]
  },
  {
   "cell_type": "code",
   "execution_count": null,
   "metadata": {
    "id": "BOwsuGQQY9OL",
    "tags": []
   },
   "outputs": [],
   "source": [
    "from tensorflow.keras.preprocessing.sequence import pad_sequences\n",
    "from tensorflow.keras.layers import Embedding, LSTM, Dense, Dropout, Bidirectional\n",
    "from tensorflow.keras.preprocessing.text import Tokenizer\n",
    "from tensorflow.keras.models import Sequential\n",
    "from tensorflow.keras.optimizers import Adam\n",
    "from tensorflow.keras import regularizers\n",
    "import tensorflow.keras.utils as ku \n",
    "import numpy as np"
   ]
  },
  {
   "cell_type": "markdown",
   "metadata": {},
   "source": [
    "Let's get the data!"
   ]
  },
  {
   "cell_type": "code",
   "execution_count": null,
   "metadata": {
    "tags": []
   },
   "outputs": [],
   "source": [
    "import requests\n",
    "url = 'https://raw.githubusercontent.com/martin-gorner/tensorflow-rnn-shakespeare/master/shakespeare/sonnets.txt'\n",
    "resp = requests.get(url)\n",
    "with open('sonnets.txt', 'wb') as f:\n",
    "    f.write(resp.content)\n",
    "\n",
    "data = open('sonnets.txt').read()\n",
    "\n",
    "corpus = data.lower().split(\"\\n\")"
   ]
  },
  {
   "cell_type": "markdown",
   "metadata": {},
   "source": [
    "Step 1: Initialise a tokenizer and fit it on the corpus variable using .fit_on_texts"
   ]
  },
  {
   "cell_type": "code",
   "execution_count": null,
   "metadata": {},
   "outputs": [],
   "source": [
    "# Your code here :\n",
    "from tensorflow.keras.preprocessing.text import Tokenizer\n",
    "\n",
    "# Step 1: Initialize a tokenizer\n",
    "tokenizer = Tokenizer()\n",
    "\n",
    "# Step 2: Fit the tokenizer on your corpus\n",
    "tokenizer.fit_on_texts(corpus)\n",
    "\n",
    "# To see the results:\n",
    "word_index = tokenizer.word_index\n",
    "print(f\"Number of unique tokens: {len(word_index)}\")\n",
    "print(\"First 10 words and their indices:\", list(word_index.items())[:10])\n",
    "\n",
    "sequences = tokenizer.texts_to_sequences(corpus)\n",
    "print(\"First 3 sequences:\", sequences[:3])"
   ]
  },
  {
   "cell_type": "markdown",
   "metadata": {},
   "source": [
    "Step 2: Calculate the Vocabulary Size\n",
    "\n",
    "Let's figure out how many unique words are in your corpus. This will be the size of your vocabulary.\n",
    "\n",
    "Calculate the length of tokenizer.word_index, add 1 to it and store it in a variable called total_words."
   ]
  },
  {
   "cell_type": "code",
   "execution_count": null,
   "metadata": {},
   "outputs": [],
   "source": [
    "# Your code here :\n",
    "# Assuming you have already fit the tokenizer on the corpus as shown in previous examples\n",
    "\n",
    "# Step 2: Calculate the Vocabulary Size\n",
    "total_words = len(tokenizer.word_index) + 1\n",
    "\n",
    "print(f\"The total number of unique words in the corpus is: {total_words}\")"
   ]
  },
  {
   "cell_type": "markdown",
   "metadata": {},
   "source": [
    "Create an empty list called input_sequences.\n",
    "\n",
    "For each sentence in your corpus, convert the text into a sequence of integers using the tokenizer.\n",
    "Then, generate n-gram sequences from these tokens.\n",
    "\n",
    "Store the result in the list input_sequences."
   ]
  },
  {
   "cell_type": "code",
   "execution_count": null,
   "metadata": {},
   "outputs": [],
   "source": [
    "# Your code here :\n",
    "input_sequences = []\n",
    "\n",
    " \n",
    "\n",
    "for line in corpus:\n",
    "\n",
    "    # Convert each line into a sequence of integers\n",
    "\n",
    "    token_list = tokenizer.texts_to_sequences([line])[0]\n",
    "\n",
    "    for i in range(1, len(token_list)):\n",
    "\n",
    "        # Generate n-grams for each sequence\n",
    "\n",
    "        n_gram_sequence = token_list[:i+1]\n",
    "\n",
    "        input_sequences.append(n_gram_sequence)\n",
    "\n",
    " \n",
    "\n",
    "# Print first few sequences for verification\n",
    "\n",
    "print(input_sequences[:5])  # Show the first 5 n-gram sequences"
   ]
  },
  {
   "cell_type": "markdown",
   "metadata": {},
   "source": [
    "Calculate the length of the longest sequence in input_sequences. Assign the result to a variable called max_sequence_len.\n",
    "\n",
    "Now pad the sequences using pad_sequences(input_sequences, maxlen=max_sequence_len, padding='pre').\n",
    "Convert it to a numpy array and assign the result back to our variable called input_sequences."
   ]
  },
  {
   "cell_type": "markdown",
   "metadata": {},
   "source": [
    "Step-by-Step Guide:\n",
    "Calculate max_sequence_len: Find the length of the longest sequence in input_sequences.\n",
    "Pad Sequences: Use Keras's pad_sequences method to pad all sequences to the length of max_sequence_len.\n"
   ]
  },
  {
   "cell_type": "code",
   "execution_count": null,
   "metadata": {},
   "outputs": [],
   "source": [
    "# Your code here :\n",
    "from tensorflow.keras.preprocessing.sequence import pad_sequences\n",
    "import numpy as np\n",
    "\n",
    "# Assuming input_sequences is already defined and contains your sequences\n",
    "# For example, let's say you have a list of sequences like this:\n",
    "# input_sequences = [[1, 2, 3], [4, 5], [6, 7, 8, 9], ...]\n",
    "\n",
    "# Step 1: Calculate the length of the longest sequence\n",
    "max_sequence_len = max(len(seq) for seq in input_sequences)\n",
    "\n",
    "# Step 2: Pad the sequences\n",
    "input_sequences = pad_sequences(input_sequences, maxlen=max_sequence_len, padding='pre')\n",
    "\n",
    "# Convert to a numpy array (though `pad_sequences` already returns a numpy array)\n",
    "input_sequences = np.array(input_sequences)\n",
    "\n",
    "# Print to verify\n",
    "print(f\"The maximum sequence length is: {max_sequence_len}\")\n",
    "print(\"Padded sequences:\\n\", input_sequences)"
   ]
  },
  {
   "cell_type": "markdown",
   "metadata": {},
   "source": [
    "Prepare Predictors and Labels\n",
    "\n",
    "Split the sequences into two parts:\n",
    "\n",
    "- Predictors: All elements from input_sequences except the last one.\n",
    "- Labels: The last element of each sequence in input_sequences."
   ]
  },
  {
   "cell_type": "code",
   "execution_count": null,
   "metadata": {},
   "outputs": [],
   "source": [
    "x= input_sequences[:, :-1]\n",
    "y= input_sequences [:, -1]"
   ]
  },
  {
   "cell_type": "code",
   "execution_count": null,
   "metadata": {},
   "outputs": [],
   "source": [
    "print (\"eje x:\", x)\n",
    "print ( \"eje de y:\", y)"
   ]
  },
  {
   "cell_type": "code",
   "execution_count": null,
   "metadata": {
    "id": "PRnDnCW-Z7qv",
    "tags": []
   },
   "outputs": [],
   "source": [
    "# Your code here :\n",
    "# Assuming input_sequences is a numpy array containing your padded sequences\n",
    "\n",
    "# Initialize lists to store predictors and labels\n",
    "predictors = []\n",
    "labels = []\n",
    "\n",
    "# Iterate over each sequence\n",
    "for sequence in input_sequences:\n",
    "    predictors.append(sequence[:-1])  # All elements except the last one\n",
    "    labels.append(sequence[-1])       # The last element\n",
    "\n",
    "# Convert lists to numpy arrays for use in model training\n",
    "predictors = np.array(predictors)\n",
    "labels = np.array(labels)\n",
    "\n",
    "# Print to verify\n",
    "print(\"Predictors:\\n\", predictors)\n",
    "print(\"Labels:\\n\", labels)"
   ]
  },
  {
   "cell_type": "markdown",
   "metadata": {},
   "source": [
    "One-Hot Encode the Labels :\n",
    "\n",
    "Convert the labels (which are integers) into one-hot encoded vectors. \n",
    "\n",
    "Ensure the length of these vectors matches the total number of unique words in your vocabulary.\n",
    "\n",
    "Use ku.to_categorical() on labels with num_classes = total_words\n",
    "\n",
    "Assign the result back to our variable labels."
   ]
  },
  {
   "cell_type": "code",
   "execution_count": null,
   "metadata": {},
   "outputs": [],
   "source": [
    "# Your code here :\n",
    "from tensorflow.keras.utils import to_categorical  # Import the one-hot encoding function\n",
    "\n",
    "# Assuming labels is a numpy array of your integer labels and total_words is defined as before\n",
    "\n",
    "# One-hot encode the labels; num_classes should equal total number of unique words (vocabulary size)\n",
    "labels = to_categorical(labels, num_classes=total_words)\n",
    "\n",
    "# Print the shape to verify; it should be (number of sequences, total_words)\n",
    "print(\"One-hot encoded labels shape:\", labels.shape)"
   ]
  },
  {
   "cell_type": "markdown",
   "metadata": {},
   "source": [
    "# Initialize the Model\n",
    "\n",
    "Start by creating a Sequential model.\n",
    "\n",
    "Add Layers to the Model:\n",
    "\n",
    "Embedding Layer: The first layer is an embedding layer. It converts word indices into dense vectors of fixed size (100 in this case). Set the input length to the maximum sequence length minus one, which corresponds to the number of previous words the model will consider when predicting the next word.\n",
    "\n",
    "Bidirectional LSTM Layer: Add a Bidirectional LSTM layer with 150 units. This layer allows the model to learn context from both directions (past and future) in the sequence. return_sequences=True\n",
    "\n",
    "Dropout Layer: Add a dropout layer with a rate of 0.2 to prevent overfitting by randomly setting 20% of the input units to 0 during training.\n",
    "\n",
    "LSTM Layer: Add a second LSTM layer with 100 units. This layer processes the sequence and passes its output to the next layer.\n",
    "\n",
    "Dense Layer (Intermediate): Add a dense layer with half the total number of words as units, using ReLU activation. A regularization term (L2) is added to prevent overfitting.\n",
    "\n",
    "Dense Layer (Output): The final dense layer has as many units as there are words in the vocabulary, with a softmax activation function to output a probability distribution over all words."
   ]
  },
  {
   "cell_type": "code",
   "execution_count": null,
   "metadata": {},
   "outputs": [],
   "source": [
    "model = Sequential([\n",
    "\n",
    "    # Your code here :\n",
    "    \n",
    "])"
   ]
  },
  {
   "cell_type": "code",
   "execution_count": null,
   "metadata": {},
   "outputs": [],
   "source": [
    "from tensorflow.keras.models import Sequential\n",
    "from tensorflow.keras.layers import Embedding, LSTM, Dense, Dropout, Bidirectional\n",
    "from tensorflow.keras.regularizers import l2\n",
    "\n",
    "# Assuming total_words and max_sequence_len are already defined\n",
    "embedding_dim = 100\n",
    "\n",
    "# Initialize the model\n",
    "model = Sequential([\n",
    "    # Embedding Layer\n",
    "    Embedding(input_dim=total_words, output_dim=embedding_dim, input_length=max_sequence_len - 1),\n",
    "    \n",
    "    # Bidirectional LSTM Layer\n",
    "    Bidirectional(LSTM(150, return_sequences=True)),\n",
    "    \n",
    "    # Dropout Layer\n",
    "    Dropout(0.2), # regularization to minimize overfitting by dropping out 20% of neurons randomly during training\n",
    "        \n",
    "    # LSTM Layer\n",
    "    LSTM(100),\n",
    "    \n",
    "    # Dense Layer (Intermediate)\n",
    "    Dense(total_words // 2, activation='relu', kernel_regularizer=l2(0.01)),  # L2 regularization for preventing overfitting\n",
    "    \n",
    "    # Dense Layer (Output)\n",
    "    Dense(total_words, activation='softmax')\n",
    "])\n",
    "\n",
    "# Print the model summary to verify the layers\n",
    "model.summary()"
   ]
  },
  {
   "cell_type": "markdown",
   "metadata": {},
   "source": [
    "# Compile the Model:\n",
    "\n",
    "Compile the model using categorical crossentropy as the loss function, the Adam optimizer for efficient training, and accuracy as the metric to evaluate during training."
   ]
  },
  {
   "cell_type": "code",
   "execution_count": null,
   "metadata": {},
   "outputs": [],
   "source": [
    "# Your code here :\n",
    "# Compile the model\n",
    "model.compile(loss='categorical_crossentropy',  # Suitable for multi-class classification\n",
    "              optimizer='adam',                 # Efficient and commonly used optimizer\n",
    "              metrics=['accuracy'])             # Track accuracy during training\n",
    "\n",
    "# Verify the compilation\n",
    "print(\"Model compiled successfully.\")"
   ]
  },
  {
   "cell_type": "markdown",
   "metadata": {},
   "source": [
    "# Print Model Summary:\n",
    "\n",
    "Use model.summary() to print a summary of the model, which shows the layers, their output shapes, and the number of parameters."
   ]
  },
  {
   "cell_type": "code",
   "execution_count": null,
   "metadata": {},
   "outputs": [],
   "source": [
    "embedding_dim = 100  # Size of the dense vectors\n",
    "max_sequence_len = 10  # Example length; replace with your actual max sequence length\n",
    "\n",
    "model = Sequential([\n",
    "    # Make sure the input_length is set\n",
    "    Embedding(input_dim=total_words, output_dim=embedding_dim, input_length=max_sequence_len - 1),\n",
    "    Bidirectional(LSTM(150, return_sequences=True)),\n",
    "    Dropout(0.2),\n",
    "    LSTM(100),\n",
    "    Dense(total_words // 2, activation='relu', kernel_regularizer=l2(0.01)),\n",
    "    Dense(total_words, activation='softmax')\n",
    "])"
   ]
  },
  {
   "cell_type": "code",
   "execution_count": null,
   "metadata": {},
   "outputs": [],
   "source": [
    "# Your code here :\n",
    "# Print the model summary\n",
    "model.build (input_shape=(None, max_sequence_len -1)) # Correct input_shape specification when building the model manually\n",
    "model.summary()"
   ]
  },
  {
   "cell_type": "markdown",
   "metadata": {},
   "source": [
    "# Now train the model for 50 epochs and assign it to a variable called history.\n",
    "\n",
    "Training the model with 50 epochs should get you around 40% accuracy.\n",
    "\n",
    "You can train the model for as many epochs as you like depending on the time and computing constraints you are facing. Ideally train it for a larger amount of epochs than 50.\n",
    "\n",
    "That way you will get better text generation at the end.\n",
    "\n",
    "However, dont waste your time."
   ]
  },
  {
   "cell_type": "code",
   "execution_count": null,
   "metadata": {
    "id": "AIg2f1HBxqof",
    "tags": []
   },
   "outputs": [],
   "source": [
    "# Assuming the model has been defined previously with layers added in the Sequential API.\n",
    "\n",
    "# Step 1: Compile the model\n",
    "model.compile(\n",
    "    loss='categorical_crossentropy',  # Loss function suitable for one-hot encoded labels\n",
    "    optimizer='adam',                 # Optimizer used for updating model parameters\n",
    "    metrics=['accuracy']              # Metric for evaluating model performance\n",
    ")\n",
    "\n",
    "# Make sure the predictors and labels are properly prepared\n",
    "# predictors should match the expected input shape (num_samples, max_sequence_len - 1)\n",
    "# labels should be one-hot encoded, matching the total number of classes (vocabulary size)\n",
    "\n",
    "# Step 2: Train the model\n",
    "history = model.fit(\n",
    "    predictors, \n",
    "    labels,\n",
    "    epochs=50,\n",
    "    batch_size=32,\n",
    "    validation_split=0.2,  # Optionally use a portion of data for validation\n",
    "    verbose=1\n",
    ")\n",
    "\n",
    "# Optionally, you can print or plot the history to check training progress\n",
    "import matplotlib.pyplot as plt\n",
    "\n",
    "# Plotting training accuracy\n",
    "plt.plot(history.history['accuracy'], label='accuracy')\n",
    "plt.plot(history.history.get('val_accuracy', []), label='val_accuracy')  # Only if validation data is used\n",
    "plt.xlabel('Epoch')\n",
    "plt.ylabel('Accuracy')\n",
    "plt.ylim([0, 1])\n",
    "plt.legend(loc='lower right')\n",
    "plt.show()"
   ]
  },
  {
   "cell_type": "markdown",
   "metadata": {},
   "source": [
    "# Use plt from matplotlib to plot the training accuracy over epochs and the loss over epochs"
   ]
  },
  {
   "cell_type": "markdown",
   "metadata": {},
   "source": [
    "First you will have to get the accuracy and loss data over epochs, you can do this by using methods on your model."
   ]
  },
  {
   "cell_type": "code",
   "execution_count": null,
   "metadata": {
    "id": "1fXTEO3GJ282",
    "tags": []
   },
   "outputs": [],
   "source": [
    "# Your code here :\n",
    "import matplotlib.pyplot as plt\n",
    "\n",
    "# Assuming 'history' is the object returned by model.fit\n",
    "\n",
    "# Extract the accuracy and loss data\n",
    "accuracy = history.history['accuracy']\n",
    "loss = history.history['loss']\n",
    "\n",
    "# If you used a validation split, you can plot validation metrics as well\n",
    "val_accuracy = history.history.get('val_accuracy', [])\n",
    "val_loss = history.history.get('val_loss', [])\n",
    "\n",
    "# Plot training accuracy and validation accuracy over epochs\n",
    "plt.figure(figsize=(12, 6))  # Set figure size\n",
    "\n",
    "# Plot training accuracy\n",
    "plt.subplot(1, 2, 1)  # 1 row, 2 columns, 1st subplot\n",
    "plt.plot(accuracy, label='Training Accuracy')\n",
    "# Plot validation accuracy if available\n",
    "if val_accuracy:\n",
    "    plt.plot(val_accuracy, label='Validation Accuracy')\n",
    "plt.title('Training and Validation Accuracy')\n",
    "plt.xlabel('Epoch')\n",
    "plt.ylabel('Accuracy')\n",
    "plt.legend(loc='lower right')\n",
    "\n",
    "# Plot training loss and validation loss over epochs\n",
    "plt.subplot(1, 2, 2)  # 1 row, 2 columns, 2nd subplot\n",
    "plt.plot(loss, label='Training Loss')\n",
    "# Plot validation loss if available\n",
    "if val_loss:\n",
    "    plt.plot(val_loss, label='Validation Loss')\n",
    "plt.title('Training and Validation Loss')\n",
    "plt.xlabel('Epoch')\n",
    "plt.ylabel('Loss')\n",
    "plt.legend(loc='upper right')\n",
    "\n",
    "plt.tight_layout()  # Adjust subplots to fit the figure area.\n",
    "plt.show()"
   ]
  },
  {
   "cell_type": "markdown",
   "metadata": {},
   "source": [
    "# Generate text with the model based on a seed text\n",
    "\n",
    "Now you will create two variables :\n",
    "\n",
    "- seed_text = 'Write the text you want the model to use as a starting point to generate the next words'\n",
    "- next_words = number_of_words_you_want_the_model_to_generate\n",
    "\n",
    "Please change number_of_words_you_want_the_model_to_generate by an actual integer."
   ]
  },
  {
   "cell_type": "code",
   "execution_count": null,
   "metadata": {},
   "outputs": [],
   "source": [
    "# Your code here :\n",
    "seed_text = \"Tell me something about Shakspear's sonnets.\"\n",
    "next_words = 20\n",
    "\n",
    "for _ in range(next_words):\n",
    "    token_list = tokenizer.texts_to_sequences([seed_text])[0]\n",
    "    token_list = pad_sequences([token_list], maxlen=max_sequence_len-1, padding='pre')\n",
    "    predicted = np.argmax(model.predict(token_list, verbose=0), axis=-1)\n",
    "    output_word = \"\"\n",
    "    for word, index in tokenizer.word_index.items():\n",
    "        if index == predicted:\n",
    "            output_word = word\n",
    "            break\n",
    "    seed_text += \" \" + output_word\n",
    "seed_text"
   ]
  },
  {
   "cell_type": "markdown",
   "metadata": {},
   "source": [
    "Now create a loop that runs based on the next_words variable and generates new text based on your seed_text input string. Print the full text with the generated text at the end.\n",
    "\n",
    "This time you dont get detailed instructions.\n",
    "\n",
    "Have fun!"
   ]
  },
  {
   "cell_type": "code",
   "execution_count": null,
   "metadata": {
    "id": "6Vc6PHgxa6Hm",
    "tags": []
   },
   "outputs": [],
   "source": [
    "# Your code here :"
   ]
  },
  {
   "cell_type": "markdown",
   "metadata": {},
   "source": [
    "Experiment with at least 3 different seed_text strings and see what happens!"
   ]
  },
  {
   "cell_type": "code",
   "execution_count": null,
   "metadata": {},
   "outputs": [],
   "source": [
    "# Your code here :"
   ]
  }
 ],
 "metadata": {
  "accelerator": "GPU",
  "colab": {
   "name": "NLP_Week4_Exercise_Shakespeare_Answer.ipynb",
   "provenance": [],
   "toc_visible": true
  },
  "kernelspec": {
   "display_name": "base",
   "language": "python",
   "name": "python3"
  },
  "language_info": {
   "codemirror_mode": {
    "name": "ipython",
    "version": 3
   },
   "file_extension": ".py",
   "mimetype": "text/x-python",
   "name": "python",
   "nbconvert_exporter": "python",
   "pygments_lexer": "ipython3",
   "version": "3.12.7"
  }
 },
 "nbformat": 4,
 "nbformat_minor": 4
}
